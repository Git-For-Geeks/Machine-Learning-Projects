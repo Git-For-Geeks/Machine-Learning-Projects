{
  "cells": [
    {
      "cell_type": "markdown",
      "metadata": {
        "id": "0McpDXBJQWqH"
      },
      "source": [
        "## Decision Tree using ID3"
      ]
    },
    {
      "cell_type": "code",
      "execution_count": 11,
      "metadata": {
        "id": "TLnoJqDdQTqM"
      },
      "outputs": [],
      "source": [
        "# importing data\n",
        "data_file = \"data.csv\" "
      ]
    },
    {
      "cell_type": "code",
      "execution_count": 7,
      "metadata": {
        "colab": {
          "base_uri": "https://localhost:8080/",
          "height": 679
        },
        "id": "v8DBt7jFT2l9",
        "outputId": "80775f35-d827-4f84-a0e3-e119825fb3ff"
      },
      "outputs": [
        {
          "name": "stdout",
          "output_type": "stream",
          "text": [
            "Requirement already satisfied: treelib in c:\\users\\madhav\\appdata\\local\\programs\\python\\python38-32\\lib\\site-packages (1.6.1)\n",
            "Requirement already satisfied: future in c:\\users\\madhav\\appdata\\local\\programs\\python\\python38-32\\lib\\site-packages (from treelib) (0.18.2)\n"
          ]
        },
        {
          "name": "stderr",
          "output_type": "stream",
          "text": [
            "WARNING: Ignoring invalid distribution -illow (c:\\users\\madhav\\appdata\\local\\programs\\python\\python38-32\\lib\\site-packages)\n",
            "WARNING: Ignoring invalid distribution -illow (c:\\users\\madhav\\appdata\\local\\programs\\python\\python38-32\\lib\\site-packages)\n",
            "WARNING: Ignoring invalid distribution -illow (c:\\users\\madhav\\appdata\\local\\programs\\python\\python38-32\\lib\\site-packages)\n",
            "WARNING: Ignoring invalid distribution -illow (c:\\users\\madhav\\appdata\\local\\programs\\python\\python38-32\\lib\\site-packages)\n",
            "WARNING: Ignoring invalid distribution -illow (c:\\users\\madhav\\appdata\\local\\programs\\python\\python38-32\\lib\\site-packages)\n",
            "WARNING: Ignoring invalid distribution -illow (c:\\users\\madhav\\appdata\\local\\programs\\python\\python38-32\\lib\\site-packages)\n",
            "WARNING: You are using pip version 22.0.2; however, version 22.3 is available.\n",
            "You should consider upgrading via the 'c:\\users\\madhav\\appdata\\local\\programs\\python\\python38-32\\python.exe -m pip install --upgrade pip' command.\n"
          ]
        },
        {
          "name": "stdout",
          "output_type": "stream",
          "text": [
            "Requirement already satisfied: tabulate in c:\\users\\madhav\\appdata\\local\\programs\\python\\python38-32\\lib\\site-packages (0.9.0)\n"
          ]
        },
        {
          "name": "stderr",
          "output_type": "stream",
          "text": [
            "WARNING: Ignoring invalid distribution -illow (c:\\users\\madhav\\appdata\\local\\programs\\python\\python38-32\\lib\\site-packages)\n",
            "WARNING: Ignoring invalid distribution -illow (c:\\users\\madhav\\appdata\\local\\programs\\python\\python38-32\\lib\\site-packages)\n",
            "WARNING: Ignoring invalid distribution -illow (c:\\users\\madhav\\appdata\\local\\programs\\python\\python38-32\\lib\\site-packages)\n",
            "WARNING: Ignoring invalid distribution -illow (c:\\users\\madhav\\appdata\\local\\programs\\python\\python38-32\\lib\\site-packages)\n",
            "WARNING: Ignoring invalid distribution -illow (c:\\users\\madhav\\appdata\\local\\programs\\python\\python38-32\\lib\\site-packages)\n",
            "WARNING: Ignoring invalid distribution -illow (c:\\users\\madhav\\appdata\\local\\programs\\python\\python38-32\\lib\\site-packages)\n",
            "WARNING: You are using pip version 22.0.2; however, version 22.3 is available.\n",
            "You should consider upgrading via the 'c:\\users\\madhav\\appdata\\local\\programs\\python\\python38-32\\python.exe -m pip install --upgrade pip' command.\n"
          ]
        }
      ],
      "source": [
        "!pip install treelib\n",
        "!pip install tabulate\n",
        "import pandas as pd\n",
        "import numpy as np\n",
        "from tabulate import tabulate\n",
        "import math\n",
        "from treelib import Node, Tree"
      ]
    },
    {
      "cell_type": "code",
      "execution_count": 12,
      "metadata": {},
      "outputs": [
        {
          "data": {
            "text/html": [
              "<div>\n",
              "<style scoped>\n",
              "    .dataframe tbody tr th:only-of-type {\n",
              "        vertical-align: middle;\n",
              "    }\n",
              "\n",
              "    .dataframe tbody tr th {\n",
              "        vertical-align: top;\n",
              "    }\n",
              "\n",
              "    .dataframe thead th {\n",
              "        text-align: right;\n",
              "    }\n",
              "</style>\n",
              "<table border=\"1\" class=\"dataframe\">\n",
              "  <thead>\n",
              "    <tr style=\"text-align: right;\">\n",
              "      <th></th>\n",
              "      <th>day</th>\n",
              "      <th>outlook</th>\n",
              "      <th>temp</th>\n",
              "      <th>humidity</th>\n",
              "      <th>wind</th>\n",
              "      <th>play</th>\n",
              "    </tr>\n",
              "  </thead>\n",
              "  <tbody>\n",
              "    <tr>\n",
              "      <th>0</th>\n",
              "      <td>D1</td>\n",
              "      <td>Sunny</td>\n",
              "      <td>Hot</td>\n",
              "      <td>High</td>\n",
              "      <td>Weak</td>\n",
              "      <td>No</td>\n",
              "    </tr>\n",
              "    <tr>\n",
              "      <th>1</th>\n",
              "      <td>D2</td>\n",
              "      <td>Sunny</td>\n",
              "      <td>Hot</td>\n",
              "      <td>High</td>\n",
              "      <td>Strong</td>\n",
              "      <td>No</td>\n",
              "    </tr>\n",
              "    <tr>\n",
              "      <th>2</th>\n",
              "      <td>D3</td>\n",
              "      <td>Overcast</td>\n",
              "      <td>Hot</td>\n",
              "      <td>High</td>\n",
              "      <td>Weak</td>\n",
              "      <td>Yes</td>\n",
              "    </tr>\n",
              "    <tr>\n",
              "      <th>3</th>\n",
              "      <td>D4</td>\n",
              "      <td>Rain</td>\n",
              "      <td>Mild</td>\n",
              "      <td>High</td>\n",
              "      <td>Weak</td>\n",
              "      <td>Yes</td>\n",
              "    </tr>\n",
              "    <tr>\n",
              "      <th>4</th>\n",
              "      <td>D5</td>\n",
              "      <td>Rain</td>\n",
              "      <td>Cool</td>\n",
              "      <td>Normal</td>\n",
              "      <td>Weak</td>\n",
              "      <td>Yes</td>\n",
              "    </tr>\n",
              "    <tr>\n",
              "      <th>5</th>\n",
              "      <td>D6</td>\n",
              "      <td>Rain</td>\n",
              "      <td>Cool</td>\n",
              "      <td>Normal</td>\n",
              "      <td>Strong</td>\n",
              "      <td>No</td>\n",
              "    </tr>\n",
              "    <tr>\n",
              "      <th>6</th>\n",
              "      <td>D7</td>\n",
              "      <td>Overcast</td>\n",
              "      <td>Cool</td>\n",
              "      <td>Normal</td>\n",
              "      <td>Strong</td>\n",
              "      <td>Yes</td>\n",
              "    </tr>\n",
              "    <tr>\n",
              "      <th>7</th>\n",
              "      <td>D8</td>\n",
              "      <td>Sunny</td>\n",
              "      <td>Mild</td>\n",
              "      <td>High</td>\n",
              "      <td>Weak</td>\n",
              "      <td>No</td>\n",
              "    </tr>\n",
              "    <tr>\n",
              "      <th>8</th>\n",
              "      <td>D9</td>\n",
              "      <td>Sunny</td>\n",
              "      <td>Cool</td>\n",
              "      <td>Normal</td>\n",
              "      <td>Weak</td>\n",
              "      <td>Yes</td>\n",
              "    </tr>\n",
              "    <tr>\n",
              "      <th>9</th>\n",
              "      <td>D10</td>\n",
              "      <td>Rain</td>\n",
              "      <td>Mild</td>\n",
              "      <td>Normal</td>\n",
              "      <td>Weak</td>\n",
              "      <td>Yes</td>\n",
              "    </tr>\n",
              "    <tr>\n",
              "      <th>10</th>\n",
              "      <td>D11</td>\n",
              "      <td>Sunny</td>\n",
              "      <td>Mild</td>\n",
              "      <td>Normal</td>\n",
              "      <td>Strong</td>\n",
              "      <td>Yes</td>\n",
              "    </tr>\n",
              "    <tr>\n",
              "      <th>11</th>\n",
              "      <td>D12</td>\n",
              "      <td>Overcast</td>\n",
              "      <td>Mild</td>\n",
              "      <td>High</td>\n",
              "      <td>Strong</td>\n",
              "      <td>Yes</td>\n",
              "    </tr>\n",
              "    <tr>\n",
              "      <th>12</th>\n",
              "      <td>D13</td>\n",
              "      <td>Overcast</td>\n",
              "      <td>Hot</td>\n",
              "      <td>Normal</td>\n",
              "      <td>Weak</td>\n",
              "      <td>Yes</td>\n",
              "    </tr>\n",
              "    <tr>\n",
              "      <th>13</th>\n",
              "      <td>D14</td>\n",
              "      <td>Rain</td>\n",
              "      <td>Mild</td>\n",
              "      <td>High</td>\n",
              "      <td>Strong</td>\n",
              "      <td>No</td>\n",
              "    </tr>\n",
              "  </tbody>\n",
              "</table>\n",
              "</div>"
            ],
            "text/plain": [
              "    day   outlook  temp humidity    wind play\n",
              "0    D1     Sunny   Hot     High    Weak   No\n",
              "1    D2     Sunny   Hot     High  Strong   No\n",
              "2    D3  Overcast   Hot     High    Weak  Yes\n",
              "3    D4      Rain  Mild     High    Weak  Yes\n",
              "4    D5      Rain  Cool   Normal    Weak  Yes\n",
              "5    D6      Rain  Cool   Normal  Strong   No\n",
              "6    D7  Overcast  Cool   Normal  Strong  Yes\n",
              "7    D8     Sunny  Mild     High    Weak   No\n",
              "8    D9     Sunny  Cool   Normal    Weak  Yes\n",
              "9   D10      Rain  Mild   Normal    Weak  Yes\n",
              "10  D11     Sunny  Mild   Normal  Strong  Yes\n",
              "11  D12  Overcast  Mild     High  Strong  Yes\n",
              "12  D13  Overcast   Hot   Normal    Weak  Yes\n",
              "13  D14      Rain  Mild     High  Strong   No"
            ]
          },
          "execution_count": 12,
          "metadata": {},
          "output_type": "execute_result"
        }
      ],
      "source": [
        "data = pd.read_csv(data_file)\n",
        "data"
      ]
    },
    {
      "cell_type": "code",
      "execution_count": 13,
      "metadata": {
        "colab": {
          "base_uri": "https://localhost:8080/"
        },
        "id": "kR8Y059NT-YH",
        "outputId": "57505e1e-9ff4-49c3-ef52-bf2bcf4a05ad"
      },
      "outputs": [
        {
          "name": "stdout",
          "output_type": "stream",
          "text": [
            "outlook    temp    humidity    wind    play\n",
            "---------  ------  ----------  ------  ------\n",
            "sunny      hot     high        weak    no\n",
            "sunny      hot     high        strong  no\n",
            "overcast   hot     high        weak    yes\n",
            "rain       mild    high        weak    yes\n",
            "rain       cool    normal      weak    yes\n",
            "rain       cool    normal      strong  no\n",
            "overcast   cool    normal      strong  yes\n",
            "sunny      mild    high        weak    no\n",
            "sunny      cool    normal      weak    yes\n",
            "rain       mild    normal      weak    yes\n",
            "sunny      mild    normal      strong  yes\n",
            "overcast   mild    high        strong  yes\n",
            "overcast   hot     normal      weak    yes\n",
            "rain       mild    high        strong  no\n"
          ]
        }
      ],
      "source": [
        "# pre processing\n",
        "data = pd.read_csv(data_file) # read csv file\n",
        "\n",
        "attrs = list(data.head()) # get headers as list\n",
        "attrs.pop(0) # pop Sr. no column\n",
        "\n",
        "# pre processing\n",
        "arr = np.array(data)\n",
        "\n",
        "# verdict\n",
        "verdict = {\n",
        "    \"total\":0\n",
        "}\n",
        "# transform data in lists\n",
        "ls = []\n",
        "for i in arr:\n",
        "  i = [j.lower() for j in i]\n",
        "  temp = list(i)\n",
        "  temp.pop(0)\n",
        "\n",
        "  elem = temp[ len(temp) -1 ]\n",
        "  if(elem not in verdict):\n",
        "    verdict[elem] = 0\n",
        "  verdict[elem] += 1 \n",
        "  verdict[\"total\"] += 1\n",
        "  ls.append(temp)\n",
        "# print(ls)\n",
        "\n",
        "print(tabulate(ls, headers=attrs))"
      ]
    },
    {
      "cell_type": "code",
      "execution_count": 14,
      "metadata": {
        "id": "Kpfr84I2YZ64"
      },
      "outputs": [],
      "source": [
        "def prepData(data):\n",
        "  arr = {}\n",
        "  for i in range(len(data[0])-1):\n",
        "    temp = {}\n",
        "    for j in range(len(data)):\n",
        "      if(data[j][i] not in temp.keys()):\n",
        "        temp[data[j][i]] = {\n",
        "            \"yes\":0,\n",
        "            \"no\":0,\n",
        "            \"total\":0\n",
        "        }\n",
        "      temp[ data[j][i] ][data[j][ len(data[0])-1 ]] += 1\n",
        "      temp[ data[j][i] ][\"total\"] += 1\n",
        "\n",
        "    arr[attrs[i]] = temp\n",
        "    arr[attrs[i]][\"total\"] = len(data)\n",
        "  return arr"
      ]
    },
    {
      "cell_type": "code",
      "execution_count": 15,
      "metadata": {
        "id": "Rtc7THKWaaNl"
      },
      "outputs": [],
      "source": [
        "def calcEntropy(data):\n",
        "  if(data[\"yes\"] == 0):\n",
        "    return 0;\n",
        "\n",
        "  num = data[\"yes\"]/data[\"total\"]\n",
        "  res = num*np.log2(num)\n",
        "\n",
        "  if(data[\"no\"] == 0):\n",
        "    return 0;\n",
        "  \n",
        "  num = data[\"no\"]/data[\"total\"]\n",
        "  res -= -1*num*np.log2(num)\n",
        "\n",
        "  return round(-1*res,4)"
      ]
    },
    {
      "cell_type": "code",
      "execution_count": 16,
      "metadata": {
        "id": "-oVWkalacSOD"
      },
      "outputs": [],
      "source": [
        "def calcInfoGain(data,total):\n",
        "  #for each attribute calculate entropy of each val\n",
        "  infoGain = calcEntropy(verdict)\n",
        "  sm = 0\n",
        "  for i in data.keys():\n",
        "    if(str(i) == \"total\"):\n",
        "      continue\n",
        "    \n",
        "    a = (data[i][\"total\"]/total)\n",
        "    en = calcEntropy(data[i])\n",
        "    sm += a*en\n",
        "  infoGain -= sm\n",
        "  return round(infoGain,4)"
      ]
    },
    {
      "cell_type": "code",
      "execution_count": 17,
      "metadata": {
        "id": "XLmwuWNSUMhQ"
      },
      "outputs": [],
      "source": [
        "def findRootAttr(arr,data):\n",
        "  # find entropy for eash attribute\n",
        "  res = []\n",
        "  for i in range(len(attrs)-1):\n",
        "    # for each attribute calculate information gain\n",
        "    infoGain = calcInfoGain( arr[attrs[i]],arr[attrs[i]][\"total\"] )\n",
        "    res.append((infoGain,attrs[i]))\n",
        "  res.sort(reverse=True)\n",
        "  # print(res)\n",
        "\n",
        "  return res[0]"
      ]
    },
    {
      "cell_type": "code",
      "execution_count": 18,
      "metadata": {
        "colab": {
          "base_uri": "https://localhost:8080/"
        },
        "id": "fLd-y79sgOvE",
        "outputId": "bc9a26bc-5a18-478c-baaf-8fb3a29f6bd8"
      },
      "outputs": [
        {
          "name": "stdout",
          "output_type": "stream",
          "text": [
            "for root child node: outlook\n",
            "for node outlook edge sunny:\n",
            "for outlook child node: humidity\n",
            "for node humidity edge high:NO\n",
            "for node humidity edge normal:YES\n",
            "for node outlook edge overcast:YES\n",
            "for node outlook edge rain:\n",
            "for outlook child node: wind\n",
            "for node wind edge weak:YES\n",
            "for node wind edge strong:NO\n",
            "\n",
            "Tree:\n",
            "\n",
            "OUTLOOK\n",
            "├── overcast--- YES\n",
            "├── rain---WIND\n",
            "│   ├── strong--- NO\n",
            "│   └── weak--- YES\n",
            "└── sunny---HUMIDITY\n",
            "    ├── high--- NO\n",
            "    └── normal--- YES\n",
            "\n"
          ]
        }
      ],
      "source": [
        "# making of the tree\n",
        "tree = Tree()\n",
        "\n",
        "def id3(data,par=\"root\",edge=\"\"):\n",
        "  # convert list data info into dict\n",
        "  arr = prepData(data)\n",
        "  # print(arr)\n",
        "\n",
        "  rootAttr = findRootAttr(arr,data)\n",
        "  if(par == \"root\"):\n",
        "    tree.create_node(rootAttr[1].upper(),rootAttr[1].lower())\n",
        "  else:\n",
        "    tree.create_node(str(edge) +\"---\"+rootAttr[1].upper(),rootAttr[1].lower(),parent=par)\n",
        "\n",
        "  print(\"for \" + str(par) + \" child node: \" + str(rootAttr[1]))\n",
        "  for i in arr[rootAttr[1]].keys():\n",
        "    if(i == \"total\"):\n",
        "      continue\n",
        "\n",
        "    print(\"for node \"+ str(rootAttr[1]) + \" edge \" + str(i) + \":\",end=\"\")\n",
        "\n",
        "    # for cases with clear verdict\n",
        "    if(arr[rootAttr[1]][i][\"yes\"] == 0):\n",
        "      tree.create_node(str(i)+\"--- NO\",parent=rootAttr[1])\n",
        "      print(\"NO\")\n",
        "      continue\n",
        "    if(arr[rootAttr[1]][i][\"no\"] == 0):\n",
        "      tree.create_node(str(i)+\"--- YES\",parent=rootAttr[1])\n",
        "      print(\"YES\")\n",
        "      continue\n",
        "    \n",
        "    print()\n",
        "    newData = []\n",
        "    ind = attrs.index(rootAttr[1])\n",
        "    for row in data:\n",
        "      if(row[ind] == i):\n",
        "        newData.append(row)\n",
        "    # print(len(newData))\n",
        "    id3(newData,rootAttr[1],i)\n",
        "id3(ls)\n",
        "print(\"\\nTree:\\n\")\n",
        "tree.show()"
      ]
    }
  ],
  "metadata": {
    "colab": {
      "collapsed_sections": [],
      "provenance": []
    },
    "kernelspec": {
      "display_name": "Python 3.8.2 32-bit",
      "language": "python",
      "name": "python3"
    },
    "language_info": {
      "codemirror_mode": {
        "name": "ipython",
        "version": 3
      },
      "file_extension": ".py",
      "mimetype": "text/x-python",
      "name": "python",
      "nbconvert_exporter": "python",
      "pygments_lexer": "ipython3",
      "version": "3.8.2"
    },
    "vscode": {
      "interpreter": {
        "hash": "2d87b1225a661bd9d8355748d51ddcc5bf6eeeaa473035e69618c95dee9f97ed"
      }
    }
  },
  "nbformat": 4,
  "nbformat_minor": 0
}
